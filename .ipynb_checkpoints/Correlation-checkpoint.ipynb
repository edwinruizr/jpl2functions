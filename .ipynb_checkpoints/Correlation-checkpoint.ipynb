{
 "cells": [
  {
   "cell_type": "code",
   "execution_count": 1,
   "metadata": {},
   "outputs": [],
   "source": [
    "import pandas\n",
    "import numpy\n",
    "import gdal\n",
    "import georasters as gr\n",
    "%matplotlib inline\n",
    "import matplotlib.pyplot as plt\n",
    "import seaborn as sns\n",
    "sns.set(color_codes=True)\n",
    "from sklearn import preprocessing"
   ]
  },
  {
   "cell_type": "code",
   "execution_count": 2,
   "metadata": {},
   "outputs": [],
   "source": [
    "# dictionary holding filename and according element name\n",
    "names = {'LP_GRS_Th_Global_2ppd.tif': 'Thorium', \n",
    "         'LP_GRS_Fe_Global_2ppd.tif': 'Iron',\n",
    "         'LP_GRS_H_Global_2ppd.tif' : 'Hydrogen'\n",
    "        }\n",
    "\n",
    "# input file (tif or xyz) -> output pandas dataframe\n",
    "def fileToDataframe(file):\n",
    "    df = gr.from_file(file).to_pandas()\n",
    "    df = df[[\"x\", \"y\", \"value\"]].copy()\n",
    "    df.columns = [\"x\", \"y\", names[file]]\n",
    "    return df\n",
    "\n",
    "\n",
    "# uses above function to create pandas dataframes (which is essential for all other functions)\n",
    "if \"LP_GRS_Th_Global_2ppd.tif\" in names:\n",
    "    df1 = fileToDataframe(\"LP_GRS_Th_Global_2ppd.tif\")\n",
    "if \"LP_GRS_Fe_Global_2ppd.tif\" in names:\n",
    "    df2 = fileToDataframe(\"LP_GRS_Fe_Global_2ppd.tif\")\n",
    "if \"LP_GRS_H_Global_2ppd.tif\" in names:\n",
    "    df3 = fileToDataframe(\"LP_GRS_H_Global_2ppd.tif\")"
   ]
  },
  {
   "cell_type": "code",
   "execution_count": 3,
   "metadata": {},
   "outputs": [
    {
     "name": "stdout",
     "output_type": "stream",
     "text": [
      "              x           y  Thorium\n",
      "0 -5.458203e+06  2729101.54       17\n",
      "1 -5.443041e+06  2729101.54       17\n",
      "2 -5.427880e+06  2729101.54       17\n",
      "3 -5.412718e+06  2729101.54       17\n",
      "4 -5.397556e+06  2729101.54       17\n",
      "              x           y  Iron\n",
      "0 -5.458203e+06  2729101.54    71\n",
      "1 -5.443041e+06  2729101.54    71\n",
      "2 -5.427880e+06  2729101.54    71\n",
      "3 -5.412718e+06  2729101.54    71\n",
      "4 -5.397556e+06  2729101.54    71\n",
      "              x           y  Hydrogen\n",
      "0 -5.458203e+06  2729101.54      1555\n",
      "1 -5.443041e+06  2729101.54      1555\n",
      "2 -5.427880e+06  2729101.54      1555\n",
      "3 -5.412718e+06  2729101.54      1555\n",
      "4 -5.397556e+06  2729101.54      1556\n"
     ]
    }
   ],
   "source": [
    "# see output of created dataframes\n",
    "print(df1.head())\n",
    "print(df2.head())\n",
    "print(df3.head())"
   ]
  },
  {
   "cell_type": "code",
   "execution_count": 30,
   "metadata": {},
   "outputs": [
    {
     "name": "stdout",
     "output_type": "stream",
     "text": [
      "           Thorium      Iron  Hydrogen\n",
      "Thorium   1.000000  0.748271  0.039447\n",
      "Iron      0.748271  1.000000 -0.033953\n",
      "Hydrogen  0.039447 -0.033953  1.000000\n"
     ]
    },
    {
     "name": "stderr",
     "output_type": "stream",
     "text": [
      "/usr/local/lib/python3.6/site-packages/matplotlib/cbook/deprecation.py:106: MatplotlibDeprecationWarning: Adding an axes using the same arguments as a previous axes currently reuses the earlier instance.  In a future version, a new instance will always be created and returned.  Meanwhile, this warning can be suppressed, and the future behavior ensured, by passing a unique label to each axes instance.\n",
      "  warnings.warn(message, mplDeprecation, stacklevel=1)\n"
     ]
    },
    {
     "data": {
      "image/png": "[encoded data removed]",
      "text/plain": [
       "<matplotlib.figure.Figure at 0x12737a9b0>"
      ]
     },
     "metadata": {},
     "output_type": "display_data"
    },
    {
     "name": "stdout",
     "output_type": "stream",
     "text": [
      "                mean   min     max\n",
      "Thorium    22.192199   3.0   129.0\n",
      "Iron       77.873765  26.0   266.0\n",
      "Hydrogen  628.965235   0.0  1955.0\n"
     ]
    }
   ],
   "source": [
    "# function which gets the \"value\" columns from all dataframes passed and aggregates them into one dataframe \n",
    "def aggregateValues(listOfDataframes):\n",
    "    for index, df in enumerate(listOfDataframes):\n",
    "        if index == 0:\n",
    "            valuesDf = df.iloc[:,2].copy()\n",
    "            valuesDf = valuesDf.to_frame()\n",
    "        else:\n",
    "            valuesDf = pandas.concat([valuesDf, df.iloc[:,2].copy()], axis=1)\n",
    "    return valuesDf\n",
    "\n",
    "\n",
    "# input list of dataframes -> output dataframe of mean, std, min, and max depending on bool value passed for each\n",
    "def getResults(listofDataframes, mean = False, std = False, min = False, max = False):\n",
    "    valuesDf = aggregateValues(listofDataframes)\n",
    "    description = valuesDf.describe()\n",
    "# count  3.000000  3.000000  3.000000\n",
    "# mean   0.595906  0.571440  0.335165\n",
    "# std    0.498073  0.539181  0.576933\n",
    "# min    0.039447 -0.033953 -0.033953\n",
    "# 25%    0.393859  0.357159  0.002747\n",
    "# 50%    0.748271  0.748271  0.039447\n",
    "# 75%    0.874136  0.874136  0.519724\n",
    "# max\n",
    "    if mean:\n",
    "        mean = description.iloc[1,:]\n",
    "        resultsDF = mean.to_frame()\n",
    "        \n",
    "    if std:\n",
    "        std = description.iloc[2,:]\n",
    "        try:\n",
    "          resultsDF\n",
    "        except NameError:\n",
    "          resultsDF = std.to_frame()\n",
    "        else:\n",
    "          resultsDF = pandas.concat([resultsDF, std], axis=1)\n",
    "        \n",
    "    if min:\n",
    "        min = description.iloc[3,:]\n",
    "        try:\n",
    "          resultsDF\n",
    "        except NameError:\n",
    "          resultsDF = min.to_frame()\n",
    "        else:\n",
    "          resultsDF = pandas.concat([resultsDF, min], axis=1)\n",
    "    if max:\n",
    "        max = description.iloc[7,:]\n",
    "        try:\n",
    "          resultsDF\n",
    "        except NameError:\n",
    "          resultsDF = max.to_frame()\n",
    "        else:\n",
    "          resultsDF = pandas.concat([resultsDF, max], axis=1)\n",
    "    return resultsDF\n",
    " \n",
    "\n",
    "# input list of dataframes -> output dataframe which is a correlation matrix of dataframes passed \n",
    "def getCorrelation(listOfDataframes):\n",
    "    valuesDf = aggregateValues(listOfDataframes)\n",
    "    return valuesDf.corr()\n",
    " \n",
    "def visualizeCorrelation(listOfDataframes):\n",
    "    correlations = getCorrelation(listOfDataframes)\n",
    "    fig = plt.figure(figsize=(15,15))\n",
    "    plt.title(\"Correlation Matrix\", fontsize= 30)\n",
    "    ax = fig.add_subplot(111)\n",
    "    cax = ax.matshow(correlations, vmin=-1, vmax=1)\n",
    "    fig.colorbar(cax)\n",
    "    ticks = numpy.arange(0,3,1)\n",
    "    ax.set_xticks(ticks)\n",
    "    ax.set_yticks(ticks)\n",
    "    ax.set_xticklabels(correlations.columns)\n",
    "    ax.set_yticklabels(correlations.columns)\n",
    "    plt.show()\n",
    "\n",
    "# print output of calls to functions\n",
    "print(getCorrelation([df1,df2,df3]))\n",
    "visualizeCorrelation([df1,df2,df3])\n",
    "print(getResults([df1,df2,df3], mean = True, std = False, min = True, max = True))"
   ]
  },
  {
   "cell_type": "code",
   "execution_count": 5,
   "metadata": {},
   "outputs": [
    {
     "data": {
      "text/plain": [
       "<matplotlib.axes._subplots.AxesSubplot at 0x10d4c8c88>"
      ]
     },
     "execution_count": 5,
     "metadata": {},
     "output_type": "execute_result"
    },
    {
     "data": {
      "image/png": "[encoded data removed]",
      "text/plain": [
       "<matplotlib.figure.Figure at 0x10d4c8588>"
      ]
     },
     "metadata": {},
     "output_type": "display_data"
    }
   ],
   "source": [
    "def plotHistogram(df):\n",
    "    fig = plt.figure(figsize=(15,15))\n",
    "    plt.xlabel('Value', fontsize= 20)\n",
    "    plt.ylabel('Frequency', fontsize= 20)\n",
    "    plt.title(df.columns.values.tolist()[-1], fontsize= 30)\n",
    "    ax = fig.add_subplot(111)\n",
    "    df = df.iloc[:,2].copy()\n",
    "    ax = df.hist(figsize=(15,15), bins= 25)\n",
    "    plt.show()\n",
    "    \n",
    "aggregateValues([df1,df2]).plot.hist(figsize=(15,15),alpha=0.5, bins=50)"
   ]
  },
  {
   "cell_type": "code",
   "execution_count": 6,
   "metadata": {},
   "outputs": [
    {
     "name": "stderr",
     "output_type": "stream",
     "text": [
      "/usr/local/lib/python3.6/site-packages/matplotlib/cbook/deprecation.py:106: MatplotlibDeprecationWarning: Adding an axes using the same arguments as a previous axes currently reuses the earlier instance.  In a future version, a new instance will always be created and returned.  Meanwhile, this warning can be suppressed, and the future behavior ensured, by passing a unique label to each axes instance.\n",
      "  warnings.warn(message, mplDeprecation, stacklevel=1)\n"
     ]
    },
    {
     "data": {
      "image/png": "[encoded data removed]",
      "text/plain": [
       "<matplotlib.figure.Figure at 0x11b2f4cc0>"
      ]
     },
     "metadata": {},
     "output_type": "display_data"
    }
   ],
   "source": [
    "# plotting thorium\n",
    "plotHistogram(df1)"
   ]
  },
  {
   "cell_type": "code",
   "execution_count": 7,
   "metadata": {},
   "outputs": [
    {
     "name": "stderr",
     "output_type": "stream",
     "text": [
      "/usr/local/lib/python3.6/site-packages/matplotlib/cbook/deprecation.py:106: MatplotlibDeprecationWarning: Adding an axes using the same arguments as a previous axes currently reuses the earlier instance.  In a future version, a new instance will always be created and returned.  Meanwhile, this warning can be suppressed, and the future behavior ensured, by passing a unique label to each axes instance.\n",
      "  warnings.warn(message, mplDeprecation, stacklevel=1)\n"
     ]
    },
    {
     "data": {
      "image/png": "[encoded data removed]",
      "text/plain": [
       "<matplotlib.figure.Figure at 0x10d1f83c8>"
      ]
     },
     "metadata": {},
     "output_type": "display_data"
    }
   ],
   "source": [
    "# plotting iron\n",
    "plotHistogram(df2)"
   ]
  },
  {
   "cell_type": "code",
   "execution_count": 8,
   "metadata": {},
   "outputs": [
    {
     "name": "stderr",
     "output_type": "stream",
     "text": [
      "/usr/local/lib/python3.6/site-packages/matplotlib/cbook/deprecation.py:106: MatplotlibDeprecationWarning: Adding an axes using the same arguments as a previous axes currently reuses the earlier instance.  In a future version, a new instance will always be created and returned.  Meanwhile, this warning can be suppressed, and the future behavior ensured, by passing a unique label to each axes instance.\n",
      "  warnings.warn(message, mplDeprecation, stacklevel=1)\n"
     ]
    },
    {
     "data": {
      "image/png": "[encoded data removed]",
      "text/plain": [
       "<matplotlib.figure.Figure at 0x11b6b5a90>"
      ]
     },
     "metadata": {},
     "output_type": "display_data"
    }
   ],
   "source": [
    "# plotting hydrogen\n",
    "plotHistogram(df3)"
   ]
  },
  {
   "cell_type": "code",
   "execution_count": 9,
   "metadata": {},
   "outputs": [],
   "source": [
    "# elements_dataframe.plot(kind = 'scatter', x ='Th', y='Fe', alpha = .6, color = 'red')\n",
    "# plt.xlabel('Thorium')\n",
    "# plt.ylabel('Iron')\n",
    "# plt.title('Th vs Fe Scatter Plot')\n",
    "# plt.show()\n",
    "\n",
    "# sns.regplot(x=\"Th\", y=\"Fe\", data=elements_dataframe);\n",
    "\n",
    "# elements_dataframe.plot(kind = 'scatter', x ='Th', y='H', alpha = .6, color = 'red')\n",
    "# plt.xlabel('Thorium')\n",
    "# plt.ylabel('Hydrogen')\n",
    "# plt.title('Th vs H Scatter Plot')\n",
    "# plt.show()\n",
    "\n",
    "# sns.regplot(x=\"Th\", y=\"H\", data=elements_dataframe);\n",
    "\n",
    "# elements_dataframe.plot(kind = 'scatter', x ='Fe', y='H', alpha = .6, color = 'red')\n",
    "# plt.xlabel('Iron')\n",
    "# plt.ylabel('Hydrogen')\n",
    "# plt.title('Fe vs H Scatter Plot')\n",
    "# plt.show()\n",
    "\n",
    "# sns.regplot(x=\"Fe\", y=\"H\", data=elements_dataframe);"
   ]
  },
  {
   "cell_type": "code",
   "execution_count": 10,
   "metadata": {},
   "outputs": [],
   "source": [
    "# covariance = elements_dataframe.cov()\n",
    "# df_norm = (covariance - covariance.mean()) / (covariance.max() - covariance.min())\n",
    "# fig = plt.figure()\n",
    "# ax = fig.add_subplot(111)\n",
    "# cax = ax.matshow(df_norm, vmin=-1, vmax=1)\n",
    "# fig.colorbar(cax)\n",
    "\n",
    "# ticks = numpy.arange(0,3,1)\n",
    "# ax.set_xticks(ticks)\n",
    "# ax.set_yticks(ticks)\n",
    "# ax.set_xticklabels(elements_dataframe.columns)\n",
    "# ax.set_yticklabels(elements_dataframe.columns)\n",
    "# plt.show()"
   ]
  },
  {
   "cell_type": "code",
   "execution_count": 11,
   "metadata": {},
   "outputs": [],
   "source": [
    "# x = covariance.values #returns a numpy array\n",
    "# min_max_scaler = preprocessing.MinMaxScaler()\n",
    "# x_scaled = min_max_scaler.fit_transform(x)\n",
    "# normalized = pandas.DataFrame(x_scaled)\n",
    "# print(normalized)"
   ]
  },
  {
   "cell_type": "code",
   "execution_count": 12,
   "metadata": {},
   "outputs": [],
   "source": [
    "# fig = plt.figure()\n",
    "# ax = fig.add_subplot(111)\n",
    "# cax = ax.matshow(normalized, vmin=-1, vmax=1)\n",
    "# fig.colorbar(cax)\n",
    "\n",
    "# ticks = numpy.arange(0,3,1)\n",
    "# ax.set_xticks(ticks)\n",
    "# ax.set_yticks(ticks)\n",
    "# ax.set_xticklabels(elements_dataframe.columns)\n",
    "# ax.set_yticklabels(elements_dataframe.columns)\n",
    "# plt.show()"
   ]
  },
  {
   "cell_type": "code",
   "execution_count": 13,
   "metadata": {},
   "outputs": [
    {
     "data": {
      "text/html": [
       "<div>\n",
       "<style scoped>\n",
       "    .dataframe tbody tr th:only-of-type {\n",
       "        vertical-align: middle;\n",
       "    }\n",
       "\n",
       "    .dataframe tbody tr th {\n",
       "        vertical-align: top;\n",
       "    }\n",
       "\n",
       "    .dataframe thead th {\n",
       "        text-align: right;\n",
       "    }\n",
       "</style>\n",
       "<table border=\"1\" class=\"dataframe\">\n",
       "  <thead>\n",
       "    <tr style=\"text-align: right;\">\n",
       "      <th></th>\n",
       "      <th>row</th>\n",
       "      <th>col</th>\n",
       "      <th>value</th>\n",
       "      <th>x</th>\n",
       "      <th>y</th>\n",
       "    </tr>\n",
       "  </thead>\n",
       "  <tbody>\n",
       "    <tr>\n",
       "      <th>0</th>\n",
       "      <td>0</td>\n",
       "      <td>0</td>\n",
       "      <td>-81.5</td>\n",
       "      <td>-180.0</td>\n",
       "      <td>90.0</td>\n",
       "    </tr>\n",
       "    <tr>\n",
       "      <th>1</th>\n",
       "      <td>0</td>\n",
       "      <td>1</td>\n",
       "      <td>-82.0</td>\n",
       "      <td>-179.5</td>\n",
       "      <td>90.0</td>\n",
       "    </tr>\n",
       "    <tr>\n",
       "      <th>2</th>\n",
       "      <td>0</td>\n",
       "      <td>2</td>\n",
       "      <td>-85.0</td>\n",
       "      <td>-179.0</td>\n",
       "      <td>90.0</td>\n",
       "    </tr>\n",
       "    <tr>\n",
       "      <th>3</th>\n",
       "      <td>0</td>\n",
       "      <td>3</td>\n",
       "      <td>-89.0</td>\n",
       "      <td>-178.5</td>\n",
       "      <td>90.0</td>\n",
       "    </tr>\n",
       "    <tr>\n",
       "      <th>4</th>\n",
       "      <td>0</td>\n",
       "      <td>4</td>\n",
       "      <td>-109.0</td>\n",
       "      <td>-178.0</td>\n",
       "      <td>90.0</td>\n",
       "    </tr>\n",
       "  </tbody>\n",
       "</table>\n",
       "</div>"
      ],
      "text/plain": [
       "   row  col  value      x     y\n",
       "0    0    0  -81.5 -180.0  90.0\n",
       "1    0    1  -82.0 -179.5  90.0\n",
       "2    0    2  -85.0 -179.0  90.0\n",
       "3    0    3  -89.0 -178.5  90.0\n",
       "4    0    4 -109.0 -178.0  90.0"
      ]
     },
     "execution_count": 13,
     "metadata": {},
     "output_type": "execute_result"
    }
   ],
   "source": [
    "resizedLola = gr.from_file(\"resizedLOLA.xyz\").to_pandas()\n",
    "resizedLola.head()"
   ]
  },
  {
   "cell_type": "code",
   "execution_count": 14,
   "metadata": {},
   "outputs": [
    {
     "data": {
      "text/html": [
       "<div>\n",
       "<style scoped>\n",
       "    .dataframe tbody tr th:only-of-type {\n",
       "        vertical-align: middle;\n",
       "    }\n",
       "\n",
       "    .dataframe tbody tr th {\n",
       "        vertical-align: top;\n",
       "    }\n",
       "\n",
       "    .dataframe thead th {\n",
       "        text-align: right;\n",
       "    }\n",
       "</style>\n",
       "<table border=\"1\" class=\"dataframe\">\n",
       "  <thead>\n",
       "    <tr style=\"text-align: right;\">\n",
       "      <th></th>\n",
       "      <th>row</th>\n",
       "      <th>col</th>\n",
       "      <th>value</th>\n",
       "      <th>x</th>\n",
       "      <th>y</th>\n",
       "    </tr>\n",
       "  </thead>\n",
       "  <tbody>\n",
       "    <tr>\n",
       "      <th>135700</th>\n",
       "      <td>188</td>\n",
       "      <td>340</td>\n",
       "      <td>-1047.0</td>\n",
       "      <td>-10.0</td>\n",
       "      <td>-4.0</td>\n",
       "    </tr>\n",
       "  </tbody>\n",
       "</table>\n",
       "</div>"
      ],
      "text/plain": [
       "        row  col   value     x    y\n",
       "135700  188  340 -1047.0 -10.0 -4.0"
      ]
     },
     "execution_count": 14,
     "metadata": {},
     "output_type": "execute_result"
    }
   ],
   "source": [
    "resizedLola[(resizedLola.x == -10) & (resizedLola.y == -4)]"
   ]
  },
  {
   "cell_type": "code",
   "execution_count": 15,
   "metadata": {},
   "outputs": [
    {
     "data": {
      "text/html": [
       "<div>\n",
       "<style scoped>\n",
       "    .dataframe tbody tr th:only-of-type {\n",
       "        vertical-align: middle;\n",
       "    }\n",
       "\n",
       "    .dataframe tbody tr th {\n",
       "        vertical-align: top;\n",
       "    }\n",
       "\n",
       "    .dataframe thead th {\n",
       "        text-align: right;\n",
       "    }\n",
       "</style>\n",
       "<table border=\"1\" class=\"dataframe\">\n",
       "  <thead>\n",
       "    <tr style=\"text-align: right;\">\n",
       "      <th></th>\n",
       "      <th>row</th>\n",
       "      <th>col</th>\n",
       "      <th>value</th>\n",
       "      <th>x</th>\n",
       "      <th>y</th>\n",
       "    </tr>\n",
       "  </thead>\n",
       "  <tbody>\n",
       "    <tr>\n",
       "      <th>count</th>\n",
       "      <td>259200.000000</td>\n",
       "      <td>259200.000000</td>\n",
       "      <td>259200.000000</td>\n",
       "      <td>259200.000000</td>\n",
       "      <td>259200.000000</td>\n",
       "    </tr>\n",
       "    <tr>\n",
       "      <th>mean</th>\n",
       "      <td>179.500000</td>\n",
       "      <td>359.500000</td>\n",
       "      <td>-519.058838</td>\n",
       "      <td>-0.250000</td>\n",
       "      <td>0.250000</td>\n",
       "    </tr>\n",
       "    <tr>\n",
       "      <th>std</th>\n",
       "      <td>103.922848</td>\n",
       "      <td>207.846297</td>\n",
       "      <td>2207.438477</td>\n",
       "      <td>103.923149</td>\n",
       "      <td>51.961424</td>\n",
       "    </tr>\n",
       "    <tr>\n",
       "      <th>min</th>\n",
       "      <td>0.000000</td>\n",
       "      <td>0.000000</td>\n",
       "      <td>-8542.500000</td>\n",
       "      <td>-180.000000</td>\n",
       "      <td>-89.500000</td>\n",
       "    </tr>\n",
       "    <tr>\n",
       "      <th>25%</th>\n",
       "      <td>89.750000</td>\n",
       "      <td>179.750000</td>\n",
       "      <td>-1909.500000</td>\n",
       "      <td>-90.125000</td>\n",
       "      <td>-44.625000</td>\n",
       "    </tr>\n",
       "    <tr>\n",
       "      <th>50%</th>\n",
       "      <td>179.500000</td>\n",
       "      <td>359.500000</td>\n",
       "      <td>-794.500000</td>\n",
       "      <td>-0.250000</td>\n",
       "      <td>0.250000</td>\n",
       "    </tr>\n",
       "    <tr>\n",
       "      <th>75%</th>\n",
       "      <td>269.250000</td>\n",
       "      <td>539.250000</td>\n",
       "      <td>633.500000</td>\n",
       "      <td>89.625000</td>\n",
       "      <td>45.125000</td>\n",
       "    </tr>\n",
       "    <tr>\n",
       "      <th>max</th>\n",
       "      <td>359.000000</td>\n",
       "      <td>719.000000</td>\n",
       "      <td>10176.500000</td>\n",
       "      <td>179.500000</td>\n",
       "      <td>90.000000</td>\n",
       "    </tr>\n",
       "  </tbody>\n",
       "</table>\n",
       "</div>"
      ],
      "text/plain": [
       "                 row            col          value              x  \\\n",
       "count  259200.000000  259200.000000  259200.000000  259200.000000   \n",
       "mean      179.500000     359.500000    -519.058838      -0.250000   \n",
       "std       103.922848     207.846297    2207.438477     103.923149   \n",
       "min         0.000000       0.000000   -8542.500000    -180.000000   \n",
       "25%        89.750000     179.750000   -1909.500000     -90.125000   \n",
       "50%       179.500000     359.500000    -794.500000      -0.250000   \n",
       "75%       269.250000     539.250000     633.500000      89.625000   \n",
       "max       359.000000     719.000000   10176.500000     179.500000   \n",
       "\n",
       "                   y  \n",
       "count  259200.000000  \n",
       "mean        0.250000  \n",
       "std        51.961424  \n",
       "min       -89.500000  \n",
       "25%       -44.625000  \n",
       "50%         0.250000  \n",
       "75%        45.125000  \n",
       "max        90.000000  "
      ]
     },
     "execution_count": 15,
     "metadata": {},
     "output_type": "execute_result"
    }
   ],
   "source": [
    "resizedLola.describe()"
   ]
  },
  {
   "cell_type": "code",
   "execution_count": 16,
   "metadata": {},
   "outputs": [
    {
     "data": {
      "text/html": [
       "<div>\n",
       "<style scoped>\n",
       "    .dataframe tbody tr th:only-of-type {\n",
       "        vertical-align: middle;\n",
       "    }\n",
       "\n",
       "    .dataframe tbody tr th {\n",
       "        vertical-align: top;\n",
       "    }\n",
       "\n",
       "    .dataframe thead th {\n",
       "        text-align: right;\n",
       "    }\n",
       "</style>\n",
       "<table border=\"1\" class=\"dataframe\">\n",
       "  <thead>\n",
       "    <tr style=\"text-align: right;\">\n",
       "      <th></th>\n",
       "      <th>x</th>\n",
       "      <th>y</th>\n",
       "      <th>Thorium</th>\n",
       "      <th>(Latitude, Longitude)</th>\n",
       "    </tr>\n",
       "  </thead>\n",
       "  <tbody>\n",
       "    <tr>\n",
       "      <th>0</th>\n",
       "      <td>-5.458203e+06</td>\n",
       "      <td>2729101.54</td>\n",
       "      <td>17</td>\n",
       "      <td>(-49.03187250592247, 24.515936252961236)</td>\n",
       "    </tr>\n",
       "    <tr>\n",
       "      <th>1</th>\n",
       "      <td>-5.443041e+06</td>\n",
       "      <td>2729101.54</td>\n",
       "      <td>17</td>\n",
       "      <td>(-48.895672860272306, 24.515936252961236)</td>\n",
       "    </tr>\n",
       "    <tr>\n",
       "      <th>2</th>\n",
       "      <td>-5.427880e+06</td>\n",
       "      <td>2729101.54</td>\n",
       "      <td>17</td>\n",
       "      <td>(-48.759473214622155, 24.515936252961236)</td>\n",
       "    </tr>\n",
       "    <tr>\n",
       "      <th>3</th>\n",
       "      <td>-5.412718e+06</td>\n",
       "      <td>2729101.54</td>\n",
       "      <td>17</td>\n",
       "      <td>(-48.62327356897199, 24.515936252961236)</td>\n",
       "    </tr>\n",
       "    <tr>\n",
       "      <th>4</th>\n",
       "      <td>-5.397556e+06</td>\n",
       "      <td>2729101.54</td>\n",
       "      <td>17</td>\n",
       "      <td>(-48.48707392332183, 24.515936252961236)</td>\n",
       "    </tr>\n",
       "  </tbody>\n",
       "</table>\n",
       "</div>"
      ],
      "text/plain": [
       "              x           y  Thorium  \\\n",
       "0 -5.458203e+06  2729101.54       17   \n",
       "1 -5.443041e+06  2729101.54       17   \n",
       "2 -5.427880e+06  2729101.54       17   \n",
       "3 -5.412718e+06  2729101.54       17   \n",
       "4 -5.397556e+06  2729101.54       17   \n",
       "\n",
       "                       (Latitude, Longitude)  \n",
       "0   (-49.03187250592247, 24.515936252961236)  \n",
       "1  (-48.895672860272306, 24.515936252961236)  \n",
       "2  (-48.759473214622155, 24.515936252961236)  \n",
       "3   (-48.62327356897199, 24.515936252961236)  \n",
       "4   (-48.48707392332183, 24.515936252961236)  "
      ]
     },
     "execution_count": 16,
     "metadata": {},
     "output_type": "execute_result"
    }
   ],
   "source": [
    "from pyproj import Proj, transform\n",
    "def convertToLatLong(coordX, coordY):\n",
    "    inProj = Proj(init='epsg:32662')\n",
    "    outProj = Proj(init='epsg:4326')\n",
    "    return transform(inProj,outProj,coordX,coordY)\n",
    "\n",
    "test = df1.copy()\n",
    "test['Latitude', 'Longitude'] = test.apply(lambda x: convertToLatLong(x['x'], x['y']), axis = 1)\n",
    "test.head()"
   ]
  },
  {
   "cell_type": "code",
   "execution_count": 17,
   "metadata": {},
   "outputs": [
    {
     "data": {
      "text/html": [
       "<div>\n",
       "<style scoped>\n",
       "    .dataframe tbody tr th:only-of-type {\n",
       "        vertical-align: middle;\n",
       "    }\n",
       "\n",
       "    .dataframe tbody tr th {\n",
       "        vertical-align: top;\n",
       "    }\n",
       "\n",
       "    .dataframe thead th {\n",
       "        text-align: right;\n",
       "    }\n",
       "</style>\n",
       "<table border=\"1\" class=\"dataframe\">\n",
       "  <thead>\n",
       "    <tr style=\"text-align: right;\">\n",
       "      <th></th>\n",
       "      <th>x</th>\n",
       "      <th>y</th>\n",
       "      <th>Thorium</th>\n",
       "      <th>(Latitude, Longitude)</th>\n",
       "      <th>Lat</th>\n",
       "      <th>Long</th>\n",
       "    </tr>\n",
       "  </thead>\n",
       "  <tbody>\n",
       "    <tr>\n",
       "      <th>0</th>\n",
       "      <td>-5.458203e+06</td>\n",
       "      <td>2729101.54</td>\n",
       "      <td>17</td>\n",
       "      <td>(-49.03187250592247, 24.515936252961236)</td>\n",
       "      <td>-180.000417</td>\n",
       "      <td>90.000208</td>\n",
       "    </tr>\n",
       "    <tr>\n",
       "      <th>1</th>\n",
       "      <td>-5.443041e+06</td>\n",
       "      <td>2729101.54</td>\n",
       "      <td>17</td>\n",
       "      <td>(-48.895672860272306, 24.515936252961236)</td>\n",
       "      <td>-179.500416</td>\n",
       "      <td>90.000208</td>\n",
       "    </tr>\n",
       "    <tr>\n",
       "      <th>2</th>\n",
       "      <td>-5.427880e+06</td>\n",
       "      <td>2729101.54</td>\n",
       "      <td>17</td>\n",
       "      <td>(-48.759473214622155, 24.515936252961236)</td>\n",
       "      <td>-179.000415</td>\n",
       "      <td>90.000208</td>\n",
       "    </tr>\n",
       "    <tr>\n",
       "      <th>3</th>\n",
       "      <td>-5.412718e+06</td>\n",
       "      <td>2729101.54</td>\n",
       "      <td>17</td>\n",
       "      <td>(-48.62327356897199, 24.515936252961236)</td>\n",
       "      <td>-178.500413</td>\n",
       "      <td>90.000208</td>\n",
       "    </tr>\n",
       "    <tr>\n",
       "      <th>4</th>\n",
       "      <td>-5.397556e+06</td>\n",
       "      <td>2729101.54</td>\n",
       "      <td>17</td>\n",
       "      <td>(-48.48707392332183, 24.515936252961236)</td>\n",
       "      <td>-178.000412</td>\n",
       "      <td>90.000208</td>\n",
       "    </tr>\n",
       "  </tbody>\n",
       "</table>\n",
       "</div>"
      ],
      "text/plain": [
       "              x           y  Thorium  \\\n",
       "0 -5.458203e+06  2729101.54       17   \n",
       "1 -5.443041e+06  2729101.54       17   \n",
       "2 -5.427880e+06  2729101.54       17   \n",
       "3 -5.412718e+06  2729101.54       17   \n",
       "4 -5.397556e+06  2729101.54       17   \n",
       "\n",
       "                       (Latitude, Longitude)         Lat       Long  \n",
       "0   (-49.03187250592247, 24.515936252961236) -180.000417  90.000208  \n",
       "1  (-48.895672860272306, 24.515936252961236) -179.500416  90.000208  \n",
       "2  (-48.759473214622155, 24.515936252961236) -179.000415  90.000208  \n",
       "3   (-48.62327356897199, 24.515936252961236) -178.500413  90.000208  \n",
       "4   (-48.48707392332183, 24.515936252961236) -178.000412  90.000208  "
      ]
     },
     "execution_count": 17,
     "metadata": {},
     "output_type": "execute_result"
    }
   ],
   "source": [
    "test[['Lat','Long']] = test[test.columns[3]].apply(pandas.Series)\n",
    "test['Lat'] = test['Lat'].astype(float)\n",
    "test['Lat'] *= float(3.67109)\n",
    "test['Long'] = test['Long'].astype(float)\n",
    "test['Long'] *= float(3.67109)\n",
    "test.head()"
   ]
  },
  {
   "cell_type": "code",
   "execution_count": 18,
   "metadata": {},
   "outputs": [
    {
     "data": {
      "text/plain": [
       "x                        float64\n",
       "y                        float64\n",
       "Thorium                   uint16\n",
       "(Latitude, Longitude)     object\n",
       "Lat                      float64\n",
       "Long                     float64\n",
       "dtype: object"
      ]
     },
     "execution_count": 18,
     "metadata": {},
     "output_type": "execute_result"
    }
   ],
   "source": [
    "test.dtypes"
   ]
  },
  {
   "cell_type": "code",
   "execution_count": 20,
   "metadata": {},
   "outputs": [],
   "source": [
    "test[['Lat','Long']] = test[test.columns[3]].apply(pandas.Series)"
   ]
  },
  {
   "cell_type": "code",
   "execution_count": 22,
   "metadata": {},
   "outputs": [],
   "source": [
    "lola_latlong = test[['Lat', 'Long', 'Thorium']].copy()"
   ]
  },
  {
   "cell_type": "code",
   "execution_count": 23,
   "metadata": {},
   "outputs": [],
   "source": [
    "lola_latlong.Lat = lola_latlong.Lat.round()\n",
    "lola_latlong.Long = lola_latlong.Long.round()"
   ]
  },
  {
   "cell_type": "code",
   "execution_count": 27,
   "metadata": {},
   "outputs": [],
   "source": [
    "lola_values = lola_latlong['Thorium']\n",
    "lola_values.name = 'Elevation'\n",
    "allTif = pandas.concat([aggregateValues([df1,df2,df3]), resizedLola.value], axis = 1)"
   ]
  },
  {
   "cell_type": "code",
   "execution_count": 28,
   "metadata": {},
   "outputs": [
    {
     "data": {
      "image/png": "[encoded data removed]",
      "text/plain": [
       "<matplotlib.figure.Figure at 0x1273afb00>"
      ]
     },
     "metadata": {},
     "output_type": "display_data"
    }
   ],
   "source": [
    "correlations = allTif.corr()\n",
    "\n",
    "fig = plt.figure()\n",
    "ax = fig.add_subplot(111)\n",
    "cax = ax.matshow(correlations, vmin=-1, vmax=1)\n",
    "fig.colorbar(cax)\n",
    "\n",
    "ticks = numpy.arange(0,4,1)\n",
    "ax.set_xticks(ticks)\n",
    "ax.set_yticks(ticks)\n",
    "ax.set_xticklabels(allTif.columns)\n",
    "ax.set_yticklabels(allTif.columns)\n",
    "plt.show()\n",
    "# fig.savefig('corr.png', bbox_inches='tight')"
   ]
  },
  {
   "cell_type": "code",
   "execution_count": 29,
   "metadata": {},
   "outputs": [
    {
     "name": "stdout",
     "output_type": "stream",
     "text": [
      "           Thorium      Iron  Hydrogen     value\n",
      "Thorium   1.000000  0.748271  0.039447 -0.365313\n",
      "Iron      0.748271  1.000000 -0.033953 -0.428598\n",
      "Hydrogen  0.039447 -0.033953  1.000000  0.063131\n",
      "value    -0.365313 -0.428598  0.063131  1.000000\n"
     ]
    }
   ],
   "source": [
    "print(correlations)"
   ]
  },
  {
   "cell_type": "code",
   "execution_count": null,
   "metadata": {},
   "outputs": [],
   "source": []
  }
 ],
 "metadata": {
  "kernelspec": {
   "display_name": "Python 3",
   "language": "python",
   "name": "python3"
  },
  "language_info": {
   "codemirror_mode": {
    "name": "ipython",
    "version": 3
   },
   "file_extension": ".py",
   "mimetype": "text/x-python",
   "name": "python",
   "nbconvert_exporter": "python",
   "pygments_lexer": "ipython3",
   "version": "3.6.3"
  }
 },
 "nbformat": 4,
 "nbformat_minor": 2
}
