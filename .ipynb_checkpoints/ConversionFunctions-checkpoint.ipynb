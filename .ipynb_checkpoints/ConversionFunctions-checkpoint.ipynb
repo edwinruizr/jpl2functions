{
 "cells": [
  {
   "cell_type": "code",
   "execution_count": null,
   "metadata": {},
   "outputs": [],
   "source": [
    "from osgeo import gdal\n",
    "from osgeo import ogr\n",
    "from osgeo import osr\n",
    "from osgeo import gdal_array\n",
    "from osgeo import gdalconst\n",
    "from pyproj import Proj, transform"
   ]
  },
  {
   "cell_type": "code",
   "execution_count": null,
   "metadata": {},
   "outputs": [],
   "source": [
    "#use for default files\n",
    "def convertToLatLong(coordX,coordY, gdalFile):\n",
    "    inSRS_wkt = gdalFile.GetProjection()  # gives SRS in WKT\n",
    "    logging.debug(inSRS_wkt)\n",
    "    inSRS_converter = osr.SpatialReference()  # makes an empty spatial ref object\n",
    "    inSRS_converter.ImportFromWkt(inSRS_wkt)  # populates the spatial ref object with our WKT SRS\n",
    "    inSRS_forPyProj = inSRS_converter.ExportToProj4()  # Exports an SRS ref as a Proj4 string usable by PyProj\n",
    "    inProj = Proj(inSRS_forPyProj)\n",
    "    logging.debug(inSRS_forPyProj)\n",
    "    outProj = Proj(init='epsg:4326')\n",
    "    x,y = transform(inProj,outProj,coordX,coordY)\n",
    "    return x,y"
   ]
  },
  {
   "cell_type": "code",
   "execution_count": 1,
   "metadata": {},
   "outputs": [],
   "source": [
    "#use for the element files. Hardcoded method because no PROJ.4 conversion for IAU2000:30110 exists\n",
    "def convertToLatLongElements(coordX, coordY):\n",
    "    inProj = Proj(init='epsg:32662')\n",
    "    outProj = Proj(init='epsg:4326')\n",
    "    x,y = transform(inProj,outProj,coordX,coordY)\n",
    "    return x*3.67109,y*3.67109"
   ]
  },
  {
   "cell_type": "code",
   "execution_count": null,
   "metadata": {},
   "outputs": [],
   "source": []
  }
 ],
 "metadata": {
  "kernelspec": {
   "display_name": "Python 3",
   "language": "python",
   "name": "python3"
  },
  "language_info": {
   "codemirror_mode": {
    "name": "ipython",
    "version": 3
   },
   "file_extension": ".py",
   "mimetype": "text/x-python",
   "name": "python",
   "nbconvert_exporter": "python",
   "pygments_lexer": "ipython3",
   "version": "3.6.0"
  }
 },
 "nbformat": 4,
 "nbformat_minor": 2
}
