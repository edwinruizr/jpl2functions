{
 "cells": [
  {
   "cell_type": "code",
   "execution_count": 22,
   "metadata": {},
   "outputs": [],
   "source": [
    "import pandas\n",
    "import matplotlib.pyplot as plt\n",
    "import georasters as gr\n",
    "\n",
    "from sklearn.cluster import KMeans\n",
    "from sklearn import preprocessing"
   ]
  },
  {
   "cell_type": "code",
   "execution_count": 23,
   "metadata": {},
   "outputs": [],
   "source": [
    "# dictionary holding filename and according element name\n",
    "names = {'LP_GRS_Th_Global_2ppd.tif': 'Thorium', \n",
    "         'LP_GRS_Fe_Global_2ppd.tif': 'Iron',\n",
    "         'LP_GRS_H_Global_2ppd.tif' : 'Hydrogen'\n",
    "        }\n",
    "\n",
    "# input file (tif or xyz) -> output pandas dataframe\n",
    "def fileToDataframe(file):\n",
    "    df = gr.from_file(file).to_pandas()\n",
    "    df = df[[\"x\", \"y\", \"value\"]].copy()\n",
    "    df.columns = [\"x\", \"y\", names[file]]\n",
    "    return df\n",
    "\n",
    "\n",
    "# uses above function to create pandas dataframes (which is essential for all other functions)\n",
    "if \"LP_GRS_Th_Global_2ppd.tif\" in names:\n",
    "    df1 = fileToDataframe(\"LP_GRS_Th_Global_2ppd.tif\")\n",
    "if \"LP_GRS_Fe_Global_2ppd.tif\" in names:\n",
    "    df2 = fileToDataframe(\"LP_GRS_Fe_Global_2ppd.tif\")\n",
    "if \"LP_GRS_H_Global_2ppd.tif\" in names:\n",
    "    df3 = fileToDataframe(\"LP_GRS_H_Global_2ppd.tif\")\n",
    "    "
   ]
  },
  {
   "cell_type": "code",
   "execution_count": 27,
   "metadata": {},
   "outputs": [
    {
     "name": "stdout",
     "output_type": "stream",
     "text": [
      "              x           y  Thorium\n",
      "0 -5.458203e+06  2729101.54       17\n",
      "1 -5.443041e+06  2729101.54       17\n",
      "2 -5.427880e+06  2729101.54       17\n",
      "3 -5.412718e+06  2729101.54       17\n",
      "4 -5.397556e+06  2729101.54       17\n",
      "              x           y  Iron\n",
      "0 -5.458203e+06  2729101.54    71\n",
      "1 -5.443041e+06  2729101.54    71\n",
      "2 -5.427880e+06  2729101.54    71\n",
      "3 -5.412718e+06  2729101.54    71\n",
      "4 -5.397556e+06  2729101.54    71\n",
      "              x           y  Hydrogen\n",
      "0 -5.458203e+06  2729101.54      1555\n",
      "1 -5.443041e+06  2729101.54      1555\n",
      "2 -5.427880e+06  2729101.54      1555\n",
      "3 -5.412718e+06  2729101.54      1555\n",
      "4 -5.397556e+06  2729101.54      1556\n"
     ]
    }
   ],
   "source": [
    "print(df1.head())\n",
    "print(df2.head())\n",
    "print(df3.head())"
   ]
  },
  {
   "cell_type": "code",
   "execution_count": 9,
   "metadata": {},
   "outputs": [],
   "source": [
    "def normalizer(df):\n",
    "    MMS = preprocessing.MinMaxScaler()\n",
    "    normalized = MMS.fit_transform(df)\n",
    "    normalized = pandas.DataFrame(normalized)\n",
    "    return normalized"
   ]
  },
  {
   "cell_type": "code",
   "execution_count": 18,
   "metadata": {},
   "outputs": [],
   "source": [
    "# for i in zip(range(4)):\n",
    "#     print(i)\n",
    "# for l in zip([0,1,2,3,4]): \n",
    "#     print(l)\n",
    "    "
   ]
  },
  {
   "cell_type": "code",
   "execution_count": 17,
   "metadata": {},
   "outputs": [],
   "source": [
    "colors = ['red', 'blue', 'green', 'purple', 'cyan', 'orange', 'yellow', 'gold', 'navy' , 'gray']\n",
    "\n",
    "def kmean_algo_visualizer(df, cluster_size):\n",
    "    kmeans = KMeans(n_clusters = cluster_size)\n",
    "    kmeans.fit(df)\n",
    "    centers = kmeans.cluster_centers_\n",
    "    labels = kmeans.labels_\n",
    "    plt.figure()\n",
    "    ax = fig.gca(projection='3d')\n",
    "    \n",
    "    for l, c in zip(range(cluster_size), colors):\n",
    "        current_members = (labels == l)\n",
    "        current_center = centers[1]\n",
    "        ax.scatter(df.iloc[current_members,0], df.iloc[current_members,1], df.iloc[current_members, 2], color=c, marker='.', alpha=0.025)\n",
    "        \n",
    "    ax.scatter(centers[:,0], centers[:,1], centers[:,2], marker='X', c='black', alpha=1)\n",
    "    \n",
    "    "
   ]
  },
  {
   "cell_type": "code",
   "execution_count": 20,
   "metadata": {},
   "outputs": [],
   "source": [
    "def kmeans_decision_algo(df, cluster, normalized):\n",
    "    if(normalized == True):\n",
    "        kmean_algo_visualizer(normalizer(df), cluster)\n",
    "    else:\n",
    "        kmean_algo_visualizer(df, cluster)"
   ]
  },
  {
   "cell_type": "code",
   "execution_count": null,
   "metadata": {},
   "outputs": [],
   "source": []
  }
 ],
 "metadata": {
  "kernelspec": {
   "display_name": "Python 3",
   "language": "python",
   "name": "python3"
  },
  "language_info": {
   "codemirror_mode": {
    "name": "ipython",
    "version": 3
   },
   "file_extension": ".py",
   "mimetype": "text/x-python",
   "name": "python",
   "nbconvert_exporter": "python",
   "pygments_lexer": "ipython3",
   "version": "3.6.4"
  }
 },
 "nbformat": 4,
 "nbformat_minor": 2
}
